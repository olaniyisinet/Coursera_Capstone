{
    "cells": [
        {
            "metadata": {
                "collapsed": true
            },
            "cell_type": "markdown",
            "source": "# Capstone (FINAL) Project - The Battle of Neighorboods\n"
        },
        {
            "metadata": {},
            "cell_type": "markdown",
            "source": "## Title - Best Location for to Open a New Wine Shop in Paris\n\nThis notebook will contain Week 1 and Week 2 assignments"
        },
        {
            "metadata": {},
            "cell_type": "markdown",
            "source": "# Week 1"
        },
        {
            "metadata": {},
            "cell_type": "markdown",
            "source": "1. Introduction / Business Problem / Requirements\n2. Decription of the data and how it will resolve the business problem"
        },
        {
            "metadata": {},
            "cell_type": "markdown",
            "source": "## 1. Introduction / Business Problem\n\n### Locations for a New Wine shop in High Traffic Areas in Paris France"
        },
        {
            "metadata": {},
            "cell_type": "markdown",
            "source": "A successful Online wine shop wants to go into retailing to own a physical store where they can entertain customers and give them a taste of the wine before the customers can buy.\n\nAccording to their market survey, they are planning to launch a new brand of wine and they figured out if people get to taste the wine firstm they will prefer it to wines from other competitors. But being an e-commerce guru with only online presence, there is no way they can get people to taste the new set of wines and also to entertain people."
        },
        {
            "metadata": {},
            "cell_type": "markdown",
            "source": "As a data scientist, I have been given the task to analyze all locations in Paris and provide which is the best location for them to open this wine shop. I am to leverage on existing data to help them make a good data-driven decision on which location has the highest traffic in Paris.\n\nI will be leveraging on Foursquare Location data to help me provide the required solution and help the company in making data-driven decisions about the best location to launch from."
        },
        {
            "metadata": {},
            "cell_type": "markdown",
            "source": "#### Criteria\nAccording to some qualitative data analysis online, they suggest that the best location to open a new wine shop might not be where other wineshops are, but locations where there are Restaurants, Cafes and Bars.\nA location where people go to socialize alot and frequently, so opening a wine shope in that location might just be the best.\n\nNarrowing down the data to the best district options derived from qualitative analysis allows for either further research to be conducted on people taste, or physical searching for specific location by the company."
        },
        {
            "metadata": {},
            "cell_type": "markdown",
            "source": "#### Why Data?\n\nWithout using data to make decisions about the best location for a new wine shop, the company could spend countless hours walking around, consulting clubs and party goers who will only give them advise based on their person preference, and they might end up opening in a location that is not ideal.\n\nData will provide better answers and better solutions to their task at hand."
        },
        {
            "metadata": {},
            "cell_type": "markdown",
            "source": "#### Outcomes\n\nThe goal is to identify the best location - Arrondissements - to open new wine shop as part of the company's plan to launch new brands of wine. The results will be sold to the management in a basic form that will help the data-driven analysis for the best locations to open the wine shop."
        },
        {
            "metadata": {},
            "cell_type": "markdown",
            "source": "## 2. The Data\n\n### The main data for this project wil be gotten from Foursquare Location data and Municipax data exported from https://opendata.paris.fr/explore/dataset/arrondissements/table/?dataChart"
        },
        {
            "metadata": {},
            "cell_type": "markdown",
            "source": "According to my research, the main districts in Paris are divided into 20 Arrondissements Municipaux (administrative districts), shortened to arrondissements.\n\nThe data regarding the districts in Paris needs has been researched and identified. Data wrangling and cleaning will have to be performed on these data.\n\nFoursquare location data will be leveraged to explore or compare districts around Paris, identifying the high traffic areas where consumers go to Restaurants, Cafes, Bars, dining and entertainment - the areas where a new wine shop can be opened."
        },
        {
            "metadata": {},
            "cell_type": "markdown",
            "source": "#### The Data Science Workflow for this part includes the following:\n\n- Outline the initial data that is required: District data for Paris including names, location data if available, and any other details required.\n- Obtain the Data: Research and find suitable sources for the district data for Paris. Access and explore the data to determine if it can be manipulated for our purposes.\n- Initial Data Wrangling and Cleaning: Clean the data and convert to a useable form as a dataframe."
        },
        {
            "metadata": {},
            "cell_type": "markdown",
            "source": "#### Importing All Required Libraries"
        },
        {
            "metadata": {},
            "cell_type": "code",
            "source": "# Import libraries\nimport numpy as np # library to handle data in a vectorized manner\nimport json # library to handle JSON files\nimport pandas as pd\n\n!conda install -c conda-forge geopy --yes \nfrom geopy.geocoders import Nominatim # convert an address into latitude and longitude values\n\nimport requests # library to handle requests\nfrom pandas.io.json import json_normalize # tranform JSON file into a pandas dataframe\n\n# Matplotlib and associated plotting modules\nimport matplotlib.pyplot as plt\nimport matplotlib.cm as cm\nimport matplotlib.colors as colors\n\nfrom bs4 import BeautifulSoup\n\n# Import k-means from clustering stage\nfrom sklearn.cluster import KMeans\n\n!conda install -c conda-forge folium=0.5.0 --yes \nimport folium # map rendering library\n\nprint('Libraries imported.')",
            "execution_count": 1,
            "outputs": [
                {
                    "output_type": "stream",
                    "text": "Solving environment: done\n\n# All requested packages already installed.\n\nSolving environment: done\n\n# All requested packages already installed.\n\nLibraries imported.\n",
                    "name": "stdout"
                }
            ]
        },
        {
            "metadata": {},
            "cell_type": "markdown",
            "source": "### Importing Paris District Data"
        },
        {
            "metadata": {},
            "cell_type": "markdown",
            "source": "Paris is divided into 20 Arrondissements Municipaux (or administrative districts), shortened to just arrondissements. They and normally referenced by the arrondissement number rather than a name. This data is necessary to select the best location for this wine shop.\n\nThe data is available on wikipedia  (https://en.wikipedia.org/wiki/Arrondissements_of_Paris) but a better version is available and exported from https://opendata.paris.fr/explore/dataset/arrondissements/table/?dataChart\n\nAfter exporting the data to CSV, I uploaded to my github account where i will be using the data from https://raw.githubusercontent.com/olaniyisinet/Coursera_Capstone/master/Arrondissements_.csv"
        },
        {
            "metadata": {},
            "cell_type": "code",
            "source": "paris = pd.read_csv('https://raw.githubusercontent.com/olaniyisinet/Coursera_Capstone/master/Arrondissements_.csv')\nparis",
            "execution_count": 2,
            "outputs": [
                {
                    "output_type": "execute_result",
                    "execution_count": 2,
                    "data": {
                        "text/plain": "    CAR                 NAME      NSQAR  CAR.1  CARINSEE         LAR  \\\n0     3               Temple  750000003      3         3   3eme Ardt   \n1    19      Buttes-Chaumont  750000019     19        19  19eme Ardt   \n2    14         Observatoire  750000014     14        14  14eme Ardt   \n3    10             Entrepot  750000010     10        10  10eme Ardt   \n4    12              Reuilly  750000012     12        12  12eme Ardt   \n5    16                Passy  750000016     16        16  16eme Ardt   \n6    11           Popincourt  750000011     11        11  11eme Ardt   \n7     2               Bourse  750000002      2         2   2eme Ardt   \n8     4       Hotel-de-Ville  750000004      4         4   4eme Ardt   \n9    17  Batignolles-Monceau  750000017     17        17  17eme Ardt   \n10   18    Buttes-Montmartre  750000018     18        18  18eme Ardt   \n11    1               Louvre  750000001      1         1    1er Ardt   \n12    5             Pantheon  750000005      5         5   5eme Ardt   \n13    7       Palais-Bourbon  750000007      7         7   7eme Ardt   \n14   20         Menilmontant  750000020     20        20  20eme Ardt   \n15    8               elysee  750000008      8         8   8eme Ardt   \n16    9                Opera  750000009      9         9   9eme Ardt   \n17   13             Gobelins  750000013     13        13  13eme Ardt   \n18   15            Vaugirard  750000015     15        15  15eme Ardt   \n19    6           Luxembourg  750000006      6         6   6eme Ardt   \n\n        NSQCO      SURFACE  PERIMETRE  Geometry_X  Geometry_Y  \n0   750001537   1170882828    4519264   48.862872    2.360001  \n1   750001537   6792651129   11253182   48.887076    2.384821  \n2   750001537   5614877309   10317483   48.829245    2.326542  \n3   750001537   2891739442    6739375   48.876130    2.360728  \n4   750001537  16314782637   24089666   48.834974    2.421325  \n5   750001537  16372542129   17416110   48.860392    2.261971  \n6   750001537   3665441552    8282012   48.859059    2.380058  \n7   750001537    991153745    4554104   48.868279    2.342803  \n8   750001537   1600585632    5420908   48.854341    2.357630  \n9   750001537   5668834504   10775580   48.887327    2.306777  \n10  750001537   5996051308    9916464   48.892569    2.348161  \n11  750001537   1824612860    6054937   48.862563    2.336443  \n12  750001537   2539374623    6239195   48.844443    2.350715  \n13  750001537   4090057185    8099425   48.856174    2.312188  \n14  750001537   5983446037   10704940   48.863461    2.401188  \n15  750001537   3880036397    7880533   48.872721    2.312554  \n16  750001537   2178303275    6471588   48.877164    2.337458  \n17  750001537   7149311091   11546547   48.828388    2.362272  \n18  750001537   8494994081   13678798   48.840085    2.292826  \n19  750001537   2153095586    6483687   48.849130    2.332898  ",
                        "text/html": "<div>\n<style scoped>\n    .dataframe tbody tr th:only-of-type {\n        vertical-align: middle;\n    }\n\n    .dataframe tbody tr th {\n        vertical-align: top;\n    }\n\n    .dataframe thead th {\n        text-align: right;\n    }\n</style>\n<table border=\"1\" class=\"dataframe\">\n  <thead>\n    <tr style=\"text-align: right;\">\n      <th></th>\n      <th>CAR</th>\n      <th>NAME</th>\n      <th>NSQAR</th>\n      <th>CAR.1</th>\n      <th>CARINSEE</th>\n      <th>LAR</th>\n      <th>NSQCO</th>\n      <th>SURFACE</th>\n      <th>PERIMETRE</th>\n      <th>Geometry_X</th>\n      <th>Geometry_Y</th>\n    </tr>\n  </thead>\n  <tbody>\n    <tr>\n      <th>0</th>\n      <td>3</td>\n      <td>Temple</td>\n      <td>750000003</td>\n      <td>3</td>\n      <td>3</td>\n      <td>3eme Ardt</td>\n      <td>750001537</td>\n      <td>1170882828</td>\n      <td>4519264</td>\n      <td>48.862872</td>\n      <td>2.360001</td>\n    </tr>\n    <tr>\n      <th>1</th>\n      <td>19</td>\n      <td>Buttes-Chaumont</td>\n      <td>750000019</td>\n      <td>19</td>\n      <td>19</td>\n      <td>19eme Ardt</td>\n      <td>750001537</td>\n      <td>6792651129</td>\n      <td>11253182</td>\n      <td>48.887076</td>\n      <td>2.384821</td>\n    </tr>\n    <tr>\n      <th>2</th>\n      <td>14</td>\n      <td>Observatoire</td>\n      <td>750000014</td>\n      <td>14</td>\n      <td>14</td>\n      <td>14eme Ardt</td>\n      <td>750001537</td>\n      <td>5614877309</td>\n      <td>10317483</td>\n      <td>48.829245</td>\n      <td>2.326542</td>\n    </tr>\n    <tr>\n      <th>3</th>\n      <td>10</td>\n      <td>Entrepot</td>\n      <td>750000010</td>\n      <td>10</td>\n      <td>10</td>\n      <td>10eme Ardt</td>\n      <td>750001537</td>\n      <td>2891739442</td>\n      <td>6739375</td>\n      <td>48.876130</td>\n      <td>2.360728</td>\n    </tr>\n    <tr>\n      <th>4</th>\n      <td>12</td>\n      <td>Reuilly</td>\n      <td>750000012</td>\n      <td>12</td>\n      <td>12</td>\n      <td>12eme Ardt</td>\n      <td>750001537</td>\n      <td>16314782637</td>\n      <td>24089666</td>\n      <td>48.834974</td>\n      <td>2.421325</td>\n    </tr>\n    <tr>\n      <th>5</th>\n      <td>16</td>\n      <td>Passy</td>\n      <td>750000016</td>\n      <td>16</td>\n      <td>16</td>\n      <td>16eme Ardt</td>\n      <td>750001537</td>\n      <td>16372542129</td>\n      <td>17416110</td>\n      <td>48.860392</td>\n      <td>2.261971</td>\n    </tr>\n    <tr>\n      <th>6</th>\n      <td>11</td>\n      <td>Popincourt</td>\n      <td>750000011</td>\n      <td>11</td>\n      <td>11</td>\n      <td>11eme Ardt</td>\n      <td>750001537</td>\n      <td>3665441552</td>\n      <td>8282012</td>\n      <td>48.859059</td>\n      <td>2.380058</td>\n    </tr>\n    <tr>\n      <th>7</th>\n      <td>2</td>\n      <td>Bourse</td>\n      <td>750000002</td>\n      <td>2</td>\n      <td>2</td>\n      <td>2eme Ardt</td>\n      <td>750001537</td>\n      <td>991153745</td>\n      <td>4554104</td>\n      <td>48.868279</td>\n      <td>2.342803</td>\n    </tr>\n    <tr>\n      <th>8</th>\n      <td>4</td>\n      <td>Hotel-de-Ville</td>\n      <td>750000004</td>\n      <td>4</td>\n      <td>4</td>\n      <td>4eme Ardt</td>\n      <td>750001537</td>\n      <td>1600585632</td>\n      <td>5420908</td>\n      <td>48.854341</td>\n      <td>2.357630</td>\n    </tr>\n    <tr>\n      <th>9</th>\n      <td>17</td>\n      <td>Batignolles-Monceau</td>\n      <td>750000017</td>\n      <td>17</td>\n      <td>17</td>\n      <td>17eme Ardt</td>\n      <td>750001537</td>\n      <td>5668834504</td>\n      <td>10775580</td>\n      <td>48.887327</td>\n      <td>2.306777</td>\n    </tr>\n    <tr>\n      <th>10</th>\n      <td>18</td>\n      <td>Buttes-Montmartre</td>\n      <td>750000018</td>\n      <td>18</td>\n      <td>18</td>\n      <td>18eme Ardt</td>\n      <td>750001537</td>\n      <td>5996051308</td>\n      <td>9916464</td>\n      <td>48.892569</td>\n      <td>2.348161</td>\n    </tr>\n    <tr>\n      <th>11</th>\n      <td>1</td>\n      <td>Louvre</td>\n      <td>750000001</td>\n      <td>1</td>\n      <td>1</td>\n      <td>1er Ardt</td>\n      <td>750001537</td>\n      <td>1824612860</td>\n      <td>6054937</td>\n      <td>48.862563</td>\n      <td>2.336443</td>\n    </tr>\n    <tr>\n      <th>12</th>\n      <td>5</td>\n      <td>Pantheon</td>\n      <td>750000005</td>\n      <td>5</td>\n      <td>5</td>\n      <td>5eme Ardt</td>\n      <td>750001537</td>\n      <td>2539374623</td>\n      <td>6239195</td>\n      <td>48.844443</td>\n      <td>2.350715</td>\n    </tr>\n    <tr>\n      <th>13</th>\n      <td>7</td>\n      <td>Palais-Bourbon</td>\n      <td>750000007</td>\n      <td>7</td>\n      <td>7</td>\n      <td>7eme Ardt</td>\n      <td>750001537</td>\n      <td>4090057185</td>\n      <td>8099425</td>\n      <td>48.856174</td>\n      <td>2.312188</td>\n    </tr>\n    <tr>\n      <th>14</th>\n      <td>20</td>\n      <td>Menilmontant</td>\n      <td>750000020</td>\n      <td>20</td>\n      <td>20</td>\n      <td>20eme Ardt</td>\n      <td>750001537</td>\n      <td>5983446037</td>\n      <td>10704940</td>\n      <td>48.863461</td>\n      <td>2.401188</td>\n    </tr>\n    <tr>\n      <th>15</th>\n      <td>8</td>\n      <td>elysee</td>\n      <td>750000008</td>\n      <td>8</td>\n      <td>8</td>\n      <td>8eme Ardt</td>\n      <td>750001537</td>\n      <td>3880036397</td>\n      <td>7880533</td>\n      <td>48.872721</td>\n      <td>2.312554</td>\n    </tr>\n    <tr>\n      <th>16</th>\n      <td>9</td>\n      <td>Opera</td>\n      <td>750000009</td>\n      <td>9</td>\n      <td>9</td>\n      <td>9eme Ardt</td>\n      <td>750001537</td>\n      <td>2178303275</td>\n      <td>6471588</td>\n      <td>48.877164</td>\n      <td>2.337458</td>\n    </tr>\n    <tr>\n      <th>17</th>\n      <td>13</td>\n      <td>Gobelins</td>\n      <td>750000013</td>\n      <td>13</td>\n      <td>13</td>\n      <td>13eme Ardt</td>\n      <td>750001537</td>\n      <td>7149311091</td>\n      <td>11546547</td>\n      <td>48.828388</td>\n      <td>2.362272</td>\n    </tr>\n    <tr>\n      <th>18</th>\n      <td>15</td>\n      <td>Vaugirard</td>\n      <td>750000015</td>\n      <td>15</td>\n      <td>15</td>\n      <td>15eme Ardt</td>\n      <td>750001537</td>\n      <td>8494994081</td>\n      <td>13678798</td>\n      <td>48.840085</td>\n      <td>2.292826</td>\n    </tr>\n    <tr>\n      <th>19</th>\n      <td>6</td>\n      <td>Luxembourg</td>\n      <td>750000006</td>\n      <td>6</td>\n      <td>6</td>\n      <td>6eme Ardt</td>\n      <td>750001537</td>\n      <td>2153095586</td>\n      <td>6483687</td>\n      <td>48.849130</td>\n      <td>2.332898</td>\n    </tr>\n  </tbody>\n</table>\n</div>"
                    },
                    "metadata": {}
                }
            ]
        },
        {
            "metadata": {},
            "cell_type": "markdown",
            "source": "### Exploring and Cleaning the Data"
        },
        {
            "metadata": {},
            "cell_type": "code",
            "source": "# District : name of the central District for the Arrondissement\n# Arrondissement : the Arrondissement or district number which is used to identify it\n# Arrondissement_Fr : the descriptive French label for each Arrondissement\n\nparis.rename(columns={'NAME': 'Neighborhood ', 'CAR': 'Arrondissement_Num', 'Geometry_X': 'Latitude', 'Geometry_Y': 'Longitude',  'LAR': 'French_Name'}, inplace=True)\nparis",
            "execution_count": 3,
            "outputs": [
                {
                    "output_type": "execute_result",
                    "execution_count": 3,
                    "data": {
                        "text/plain": "    Arrondissement_Num        Neighborhood       NSQAR  CAR.1  CARINSEE  \\\n0                    3               Temple  750000003      3         3   \n1                   19      Buttes-Chaumont  750000019     19        19   \n2                   14         Observatoire  750000014     14        14   \n3                   10             Entrepot  750000010     10        10   \n4                   12              Reuilly  750000012     12        12   \n5                   16                Passy  750000016     16        16   \n6                   11           Popincourt  750000011     11        11   \n7                    2               Bourse  750000002      2         2   \n8                    4       Hotel-de-Ville  750000004      4         4   \n9                   17  Batignolles-Monceau  750000017     17        17   \n10                  18    Buttes-Montmartre  750000018     18        18   \n11                   1               Louvre  750000001      1         1   \n12                   5             Pantheon  750000005      5         5   \n13                   7       Palais-Bourbon  750000007      7         7   \n14                  20         Menilmontant  750000020     20        20   \n15                   8               elysee  750000008      8         8   \n16                   9                Opera  750000009      9         9   \n17                  13             Gobelins  750000013     13        13   \n18                  15            Vaugirard  750000015     15        15   \n19                   6           Luxembourg  750000006      6         6   \n\n   French_Name      NSQCO      SURFACE  PERIMETRE   Latitude  Longitude  \n0    3eme Ardt  750001537   1170882828    4519264  48.862872   2.360001  \n1   19eme Ardt  750001537   6792651129   11253182  48.887076   2.384821  \n2   14eme Ardt  750001537   5614877309   10317483  48.829245   2.326542  \n3   10eme Ardt  750001537   2891739442    6739375  48.876130   2.360728  \n4   12eme Ardt  750001537  16314782637   24089666  48.834974   2.421325  \n5   16eme Ardt  750001537  16372542129   17416110  48.860392   2.261971  \n6   11eme Ardt  750001537   3665441552    8282012  48.859059   2.380058  \n7    2eme Ardt  750001537    991153745    4554104  48.868279   2.342803  \n8    4eme Ardt  750001537   1600585632    5420908  48.854341   2.357630  \n9   17eme Ardt  750001537   5668834504   10775580  48.887327   2.306777  \n10  18eme Ardt  750001537   5996051308    9916464  48.892569   2.348161  \n11    1er Ardt  750001537   1824612860    6054937  48.862563   2.336443  \n12   5eme Ardt  750001537   2539374623    6239195  48.844443   2.350715  \n13   7eme Ardt  750001537   4090057185    8099425  48.856174   2.312188  \n14  20eme Ardt  750001537   5983446037   10704940  48.863461   2.401188  \n15   8eme Ardt  750001537   3880036397    7880533  48.872721   2.312554  \n16   9eme Ardt  750001537   2178303275    6471588  48.877164   2.337458  \n17  13eme Ardt  750001537   7149311091   11546547  48.828388   2.362272  \n18  15eme Ardt  750001537   8494994081   13678798  48.840085   2.292826  \n19   6eme Ardt  750001537   2153095586    6483687  48.849130   2.332898  ",
                        "text/html": "<div>\n<style scoped>\n    .dataframe tbody tr th:only-of-type {\n        vertical-align: middle;\n    }\n\n    .dataframe tbody tr th {\n        vertical-align: top;\n    }\n\n    .dataframe thead th {\n        text-align: right;\n    }\n</style>\n<table border=\"1\" class=\"dataframe\">\n  <thead>\n    <tr style=\"text-align: right;\">\n      <th></th>\n      <th>Arrondissement_Num</th>\n      <th>Neighborhood</th>\n      <th>NSQAR</th>\n      <th>CAR.1</th>\n      <th>CARINSEE</th>\n      <th>French_Name</th>\n      <th>NSQCO</th>\n      <th>SURFACE</th>\n      <th>PERIMETRE</th>\n      <th>Latitude</th>\n      <th>Longitude</th>\n    </tr>\n  </thead>\n  <tbody>\n    <tr>\n      <th>0</th>\n      <td>3</td>\n      <td>Temple</td>\n      <td>750000003</td>\n      <td>3</td>\n      <td>3</td>\n      <td>3eme Ardt</td>\n      <td>750001537</td>\n      <td>1170882828</td>\n      <td>4519264</td>\n      <td>48.862872</td>\n      <td>2.360001</td>\n    </tr>\n    <tr>\n      <th>1</th>\n      <td>19</td>\n      <td>Buttes-Chaumont</td>\n      <td>750000019</td>\n      <td>19</td>\n      <td>19</td>\n      <td>19eme Ardt</td>\n      <td>750001537</td>\n      <td>6792651129</td>\n      <td>11253182</td>\n      <td>48.887076</td>\n      <td>2.384821</td>\n    </tr>\n    <tr>\n      <th>2</th>\n      <td>14</td>\n      <td>Observatoire</td>\n      <td>750000014</td>\n      <td>14</td>\n      <td>14</td>\n      <td>14eme Ardt</td>\n      <td>750001537</td>\n      <td>5614877309</td>\n      <td>10317483</td>\n      <td>48.829245</td>\n      <td>2.326542</td>\n    </tr>\n    <tr>\n      <th>3</th>\n      <td>10</td>\n      <td>Entrepot</td>\n      <td>750000010</td>\n      <td>10</td>\n      <td>10</td>\n      <td>10eme Ardt</td>\n      <td>750001537</td>\n      <td>2891739442</td>\n      <td>6739375</td>\n      <td>48.876130</td>\n      <td>2.360728</td>\n    </tr>\n    <tr>\n      <th>4</th>\n      <td>12</td>\n      <td>Reuilly</td>\n      <td>750000012</td>\n      <td>12</td>\n      <td>12</td>\n      <td>12eme Ardt</td>\n      <td>750001537</td>\n      <td>16314782637</td>\n      <td>24089666</td>\n      <td>48.834974</td>\n      <td>2.421325</td>\n    </tr>\n    <tr>\n      <th>5</th>\n      <td>16</td>\n      <td>Passy</td>\n      <td>750000016</td>\n      <td>16</td>\n      <td>16</td>\n      <td>16eme Ardt</td>\n      <td>750001537</td>\n      <td>16372542129</td>\n      <td>17416110</td>\n      <td>48.860392</td>\n      <td>2.261971</td>\n    </tr>\n    <tr>\n      <th>6</th>\n      <td>11</td>\n      <td>Popincourt</td>\n      <td>750000011</td>\n      <td>11</td>\n      <td>11</td>\n      <td>11eme Ardt</td>\n      <td>750001537</td>\n      <td>3665441552</td>\n      <td>8282012</td>\n      <td>48.859059</td>\n      <td>2.380058</td>\n    </tr>\n    <tr>\n      <th>7</th>\n      <td>2</td>\n      <td>Bourse</td>\n      <td>750000002</td>\n      <td>2</td>\n      <td>2</td>\n      <td>2eme Ardt</td>\n      <td>750001537</td>\n      <td>991153745</td>\n      <td>4554104</td>\n      <td>48.868279</td>\n      <td>2.342803</td>\n    </tr>\n    <tr>\n      <th>8</th>\n      <td>4</td>\n      <td>Hotel-de-Ville</td>\n      <td>750000004</td>\n      <td>4</td>\n      <td>4</td>\n      <td>4eme Ardt</td>\n      <td>750001537</td>\n      <td>1600585632</td>\n      <td>5420908</td>\n      <td>48.854341</td>\n      <td>2.357630</td>\n    </tr>\n    <tr>\n      <th>9</th>\n      <td>17</td>\n      <td>Batignolles-Monceau</td>\n      <td>750000017</td>\n      <td>17</td>\n      <td>17</td>\n      <td>17eme Ardt</td>\n      <td>750001537</td>\n      <td>5668834504</td>\n      <td>10775580</td>\n      <td>48.887327</td>\n      <td>2.306777</td>\n    </tr>\n    <tr>\n      <th>10</th>\n      <td>18</td>\n      <td>Buttes-Montmartre</td>\n      <td>750000018</td>\n      <td>18</td>\n      <td>18</td>\n      <td>18eme Ardt</td>\n      <td>750001537</td>\n      <td>5996051308</td>\n      <td>9916464</td>\n      <td>48.892569</td>\n      <td>2.348161</td>\n    </tr>\n    <tr>\n      <th>11</th>\n      <td>1</td>\n      <td>Louvre</td>\n      <td>750000001</td>\n      <td>1</td>\n      <td>1</td>\n      <td>1er Ardt</td>\n      <td>750001537</td>\n      <td>1824612860</td>\n      <td>6054937</td>\n      <td>48.862563</td>\n      <td>2.336443</td>\n    </tr>\n    <tr>\n      <th>12</th>\n      <td>5</td>\n      <td>Pantheon</td>\n      <td>750000005</td>\n      <td>5</td>\n      <td>5</td>\n      <td>5eme Ardt</td>\n      <td>750001537</td>\n      <td>2539374623</td>\n      <td>6239195</td>\n      <td>48.844443</td>\n      <td>2.350715</td>\n    </tr>\n    <tr>\n      <th>13</th>\n      <td>7</td>\n      <td>Palais-Bourbon</td>\n      <td>750000007</td>\n      <td>7</td>\n      <td>7</td>\n      <td>7eme Ardt</td>\n      <td>750001537</td>\n      <td>4090057185</td>\n      <td>8099425</td>\n      <td>48.856174</td>\n      <td>2.312188</td>\n    </tr>\n    <tr>\n      <th>14</th>\n      <td>20</td>\n      <td>Menilmontant</td>\n      <td>750000020</td>\n      <td>20</td>\n      <td>20</td>\n      <td>20eme Ardt</td>\n      <td>750001537</td>\n      <td>5983446037</td>\n      <td>10704940</td>\n      <td>48.863461</td>\n      <td>2.401188</td>\n    </tr>\n    <tr>\n      <th>15</th>\n      <td>8</td>\n      <td>elysee</td>\n      <td>750000008</td>\n      <td>8</td>\n      <td>8</td>\n      <td>8eme Ardt</td>\n      <td>750001537</td>\n      <td>3880036397</td>\n      <td>7880533</td>\n      <td>48.872721</td>\n      <td>2.312554</td>\n    </tr>\n    <tr>\n      <th>16</th>\n      <td>9</td>\n      <td>Opera</td>\n      <td>750000009</td>\n      <td>9</td>\n      <td>9</td>\n      <td>9eme Ardt</td>\n      <td>750001537</td>\n      <td>2178303275</td>\n      <td>6471588</td>\n      <td>48.877164</td>\n      <td>2.337458</td>\n    </tr>\n    <tr>\n      <th>17</th>\n      <td>13</td>\n      <td>Gobelins</td>\n      <td>750000013</td>\n      <td>13</td>\n      <td>13</td>\n      <td>13eme Ardt</td>\n      <td>750001537</td>\n      <td>7149311091</td>\n      <td>11546547</td>\n      <td>48.828388</td>\n      <td>2.362272</td>\n    </tr>\n    <tr>\n      <th>18</th>\n      <td>15</td>\n      <td>Vaugirard</td>\n      <td>750000015</td>\n      <td>15</td>\n      <td>15</td>\n      <td>15eme Ardt</td>\n      <td>750001537</td>\n      <td>8494994081</td>\n      <td>13678798</td>\n      <td>48.840085</td>\n      <td>2.292826</td>\n    </tr>\n    <tr>\n      <th>19</th>\n      <td>6</td>\n      <td>Luxembourg</td>\n      <td>750000006</td>\n      <td>6</td>\n      <td>6</td>\n      <td>6eme Ardt</td>\n      <td>750001537</td>\n      <td>2153095586</td>\n      <td>6483687</td>\n      <td>48.849130</td>\n      <td>2.332898</td>\n    </tr>\n  </tbody>\n</table>\n</div>"
                    },
                    "metadata": {}
                }
            ]
        },
        {
            "metadata": {},
            "cell_type": "markdown",
            "source": "### Removing unncesary Columns from the dataset"
        },
        {
            "metadata": {},
            "cell_type": "code",
            "source": "paris.drop(['NSQAR','CAR.1','CARINSEE','NSQCO','SURFACE', 'PERIMETRE' ], axis=1, inplace=True)\nparis",
            "execution_count": 4,
            "outputs": [
                {
                    "output_type": "execute_result",
                    "execution_count": 4,
                    "data": {
                        "text/plain": "    Arrondissement_Num        Neighborhood  French_Name   Latitude  Longitude\n0                    3               Temple   3eme Ardt  48.862872   2.360001\n1                   19      Buttes-Chaumont  19eme Ardt  48.887076   2.384821\n2                   14         Observatoire  14eme Ardt  48.829245   2.326542\n3                   10             Entrepot  10eme Ardt  48.876130   2.360728\n4                   12              Reuilly  12eme Ardt  48.834974   2.421325\n5                   16                Passy  16eme Ardt  48.860392   2.261971\n6                   11           Popincourt  11eme Ardt  48.859059   2.380058\n7                    2               Bourse   2eme Ardt  48.868279   2.342803\n8                    4       Hotel-de-Ville   4eme Ardt  48.854341   2.357630\n9                   17  Batignolles-Monceau  17eme Ardt  48.887327   2.306777\n10                  18    Buttes-Montmartre  18eme Ardt  48.892569   2.348161\n11                   1               Louvre    1er Ardt  48.862563   2.336443\n12                   5             Pantheon   5eme Ardt  48.844443   2.350715\n13                   7       Palais-Bourbon   7eme Ardt  48.856174   2.312188\n14                  20         Menilmontant  20eme Ardt  48.863461   2.401188\n15                   8               elysee   8eme Ardt  48.872721   2.312554\n16                   9                Opera   9eme Ardt  48.877164   2.337458\n17                  13             Gobelins  13eme Ardt  48.828388   2.362272\n18                  15            Vaugirard  15eme Ardt  48.840085   2.292826\n19                   6           Luxembourg   6eme Ardt  48.849130   2.332898",
                        "text/html": "<div>\n<style scoped>\n    .dataframe tbody tr th:only-of-type {\n        vertical-align: middle;\n    }\n\n    .dataframe tbody tr th {\n        vertical-align: top;\n    }\n\n    .dataframe thead th {\n        text-align: right;\n    }\n</style>\n<table border=\"1\" class=\"dataframe\">\n  <thead>\n    <tr style=\"text-align: right;\">\n      <th></th>\n      <th>Arrondissement_Num</th>\n      <th>Neighborhood</th>\n      <th>French_Name</th>\n      <th>Latitude</th>\n      <th>Longitude</th>\n    </tr>\n  </thead>\n  <tbody>\n    <tr>\n      <th>0</th>\n      <td>3</td>\n      <td>Temple</td>\n      <td>3eme Ardt</td>\n      <td>48.862872</td>\n      <td>2.360001</td>\n    </tr>\n    <tr>\n      <th>1</th>\n      <td>19</td>\n      <td>Buttes-Chaumont</td>\n      <td>19eme Ardt</td>\n      <td>48.887076</td>\n      <td>2.384821</td>\n    </tr>\n    <tr>\n      <th>2</th>\n      <td>14</td>\n      <td>Observatoire</td>\n      <td>14eme Ardt</td>\n      <td>48.829245</td>\n      <td>2.326542</td>\n    </tr>\n    <tr>\n      <th>3</th>\n      <td>10</td>\n      <td>Entrepot</td>\n      <td>10eme Ardt</td>\n      <td>48.876130</td>\n      <td>2.360728</td>\n    </tr>\n    <tr>\n      <th>4</th>\n      <td>12</td>\n      <td>Reuilly</td>\n      <td>12eme Ardt</td>\n      <td>48.834974</td>\n      <td>2.421325</td>\n    </tr>\n    <tr>\n      <th>5</th>\n      <td>16</td>\n      <td>Passy</td>\n      <td>16eme Ardt</td>\n      <td>48.860392</td>\n      <td>2.261971</td>\n    </tr>\n    <tr>\n      <th>6</th>\n      <td>11</td>\n      <td>Popincourt</td>\n      <td>11eme Ardt</td>\n      <td>48.859059</td>\n      <td>2.380058</td>\n    </tr>\n    <tr>\n      <th>7</th>\n      <td>2</td>\n      <td>Bourse</td>\n      <td>2eme Ardt</td>\n      <td>48.868279</td>\n      <td>2.342803</td>\n    </tr>\n    <tr>\n      <th>8</th>\n      <td>4</td>\n      <td>Hotel-de-Ville</td>\n      <td>4eme Ardt</td>\n      <td>48.854341</td>\n      <td>2.357630</td>\n    </tr>\n    <tr>\n      <th>9</th>\n      <td>17</td>\n      <td>Batignolles-Monceau</td>\n      <td>17eme Ardt</td>\n      <td>48.887327</td>\n      <td>2.306777</td>\n    </tr>\n    <tr>\n      <th>10</th>\n      <td>18</td>\n      <td>Buttes-Montmartre</td>\n      <td>18eme Ardt</td>\n      <td>48.892569</td>\n      <td>2.348161</td>\n    </tr>\n    <tr>\n      <th>11</th>\n      <td>1</td>\n      <td>Louvre</td>\n      <td>1er Ardt</td>\n      <td>48.862563</td>\n      <td>2.336443</td>\n    </tr>\n    <tr>\n      <th>12</th>\n      <td>5</td>\n      <td>Pantheon</td>\n      <td>5eme Ardt</td>\n      <td>48.844443</td>\n      <td>2.350715</td>\n    </tr>\n    <tr>\n      <th>13</th>\n      <td>7</td>\n      <td>Palais-Bourbon</td>\n      <td>7eme Ardt</td>\n      <td>48.856174</td>\n      <td>2.312188</td>\n    </tr>\n    <tr>\n      <th>14</th>\n      <td>20</td>\n      <td>Menilmontant</td>\n      <td>20eme Ardt</td>\n      <td>48.863461</td>\n      <td>2.401188</td>\n    </tr>\n    <tr>\n      <th>15</th>\n      <td>8</td>\n      <td>elysee</td>\n      <td>8eme Ardt</td>\n      <td>48.872721</td>\n      <td>2.312554</td>\n    </tr>\n    <tr>\n      <th>16</th>\n      <td>9</td>\n      <td>Opera</td>\n      <td>9eme Ardt</td>\n      <td>48.877164</td>\n      <td>2.337458</td>\n    </tr>\n    <tr>\n      <th>17</th>\n      <td>13</td>\n      <td>Gobelins</td>\n      <td>13eme Ardt</td>\n      <td>48.828388</td>\n      <td>2.362272</td>\n    </tr>\n    <tr>\n      <th>18</th>\n      <td>15</td>\n      <td>Vaugirard</td>\n      <td>15eme Ardt</td>\n      <td>48.840085</td>\n      <td>2.292826</td>\n    </tr>\n    <tr>\n      <th>19</th>\n      <td>6</td>\n      <td>Luxembourg</td>\n      <td>6eme Ardt</td>\n      <td>48.849130</td>\n      <td>2.332898</td>\n    </tr>\n  </tbody>\n</table>\n</div>"
                    },
                    "metadata": {}
                }
            ]
        },
        {
            "metadata": {},
            "cell_type": "markdown",
            "source": "#### We have successfully identified the problem statement and also identified the data to be used for this. This sums up our activities for week one.\n\n- Clearly define a problem or an idea of your choice, where you would need to leverage the Foursquare location data to solve or execute.\n- Describe the data that you will be using to solve the problem or execute your idea."
        },
        {
            "metadata": {},
            "cell_type": "markdown",
            "source": "# Week 1 Ends HERE ---------------------------------------------------------------------------------------------------"
        },
        {
            "metadata": {},
            "cell_type": "code",
            "source": "",
            "execution_count": null,
            "outputs": []
        }
    ],
    "metadata": {
        "kernelspec": {
            "name": "python3",
            "display_name": "Python 3.6",
            "language": "python"
        },
        "language_info": {
            "name": "python",
            "version": "3.6.9",
            "mimetype": "text/x-python",
            "codemirror_mode": {
                "name": "ipython",
                "version": 3
            },
            "pygments_lexer": "ipython3",
            "nbconvert_exporter": "python",
            "file_extension": ".py"
        }
    },
    "nbformat": 4,
    "nbformat_minor": 1
}