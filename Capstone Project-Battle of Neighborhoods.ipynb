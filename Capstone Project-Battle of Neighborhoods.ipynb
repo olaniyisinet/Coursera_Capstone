{
    "cells": [
        {
            "metadata": {
                "collapsed": true
            },
            "cell_type": "markdown",
            "source": "# Capstone (FINAL) Project - The Battle of Neighorboods\n"
        },
        {
            "metadata": {},
            "cell_type": "markdown",
            "source": "## Title - Best Location for to Open a New Wine Shop in Paris\n\nThis notebook will contain Week 1 and Week 2 assignments"
        },
        {
            "metadata": {},
            "cell_type": "markdown",
            "source": "# Week 1"
        },
        {
            "metadata": {},
            "cell_type": "markdown",
            "source": "1. Introduction / Business Problem / Requirements\n2. Decription of the data and how it will resolve the business problem"
        },
        {
            "metadata": {},
            "cell_type": "markdown",
            "source": "## 1. Introduction / Business Problem\n\n### Locations for New Wine shops in High Traffic Areas in Paris France"
        },
        {
            "metadata": {},
            "cell_type": "markdown",
            "source": "A successful Online wine shop wants to go into retailing to own a physical store where they can entertain customers and give them a taste of the wine before the customers can buy.\n\nAccording to their market survey, they are planning to launch a new brand of wine and they figured out if people get to taste the wine firstm they will prefer it to wines from other competitors. But being an e-commerce guru with only online presence, there is no way they can get people to taste the new set of wines and also to entertain people."
        },
        {
            "metadata": {},
            "cell_type": "markdown",
            "source": "As a data scientist, I have been given the task to analyze all locations in Paris and provide which is the best location for them to open this wine shop. I am to leverage on existing data to help them make a good data-driven decision on whicj location has the highest traffic in Paris.\n\nI will be leveraging on Foursquare Location data to help me provide the required solution and help the company in making data-driven decisions about the best location to launch from."
        },
        {
            "metadata": {},
            "cell_type": "markdown",
            "source": "#### Criteria\nAccording to some qualitative data analysis online, they suggest that the best location to open a new wine shop might not be where other wineshops are, but locations where there are Restaurants, Cafes and Bars.\nA location where people go to socialize alot and frequently, so opening a wine shope in that location might just be the best.\n\nNarrowing down the data to the best district options derived from qualitative analysis allows for either further research to be conducted on people taste, or physical searching for specific location by the company."
        },
        {
            "metadata": {},
            "cell_type": "markdown",
            "source": "#### Why Data?\n\nWithout using data to make decisions about the best location for a new wine shop, the company could spend countless hours walking around, consulting clubs and party goers who will only give them advise based on their person preference, and they might end up opening in a location that is not ideal.\n\nData will provide better answers and better solutions to their task at hand."
        },
        {
            "metadata": {},
            "cell_type": "markdown",
            "source": "#### Outcomes\n\nThe goal is to identify the best location - Arrondissements - to open new wine shop as part of the company's plan to launch new brands of wine. The results will be sold to the management in a basic form that will help the data-driven analysis for the best locations to open the wine shop."
        },
        {
            "metadata": {},
            "cell_type": "code",
            "source": "",
            "execution_count": null,
            "outputs": []
        }
    ],
    "metadata": {
        "kernelspec": {
            "name": "python3",
            "display_name": "Python 3.6",
            "language": "python"
        },
        "language_info": {
            "name": "python",
            "version": "3.6.9",
            "mimetype": "text/x-python",
            "codemirror_mode": {
                "name": "ipython",
                "version": 3
            },
            "pygments_lexer": "ipython3",
            "nbconvert_exporter": "python",
            "file_extension": ".py"
        }
    },
    "nbformat": 4,
    "nbformat_minor": 1
}