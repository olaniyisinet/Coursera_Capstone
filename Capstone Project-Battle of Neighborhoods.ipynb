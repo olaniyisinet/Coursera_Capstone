{
    "cells": [
        {
            "metadata": {
                "collapsed": true
            },
            "cell_type": "markdown",
            "source": "# Capstone (FINAL) Project - The Battle of Neighorboods\n"
        },
        {
            "metadata": {},
            "cell_type": "markdown",
            "source": "## Title - Best Location for to Open a New Wine Shop in Paris\n\nThis notebook will contain Week 1 and Week 2 assignments"
        },
        {
            "metadata": {},
            "cell_type": "markdown",
            "source": "# Week 1"
        },
        {
            "metadata": {},
            "cell_type": "markdown",
            "source": "1. Introduction / Business Problem / Requirements\n2. Decription of the data and how it will resolve the business problem"
        },
        {
            "metadata": {},
            "cell_type": "markdown",
            "source": "## 1. Introduction / Business Problem\n\n### Locations for a New Wine shop in High Traffic Areas in Paris France"
        },
        {
            "metadata": {},
            "cell_type": "markdown",
            "source": "A successful Online wine shop wants to go into retailing to own a physical store where they can entertain customers and give them a taste of the wine before the customers can buy.\n\nAccording to their market survey, they are planning to launch a new brand of wine and they figured out if people get to taste the wine firstm they will prefer it to wines from other competitors. But being an e-commerce guru with only online presence, there is no way they can get people to taste the new set of wines and also to entertain people."
        },
        {
            "metadata": {},
            "cell_type": "markdown",
            "source": "As a data scientist, I have been given the task to analyze all locations in Paris and provide which is the best location for them to open this wine shop. I am to leverage on existing data to help them make a good data-driven decision on which location has the highest traffic in Paris.\n\nI will be leveraging on Foursquare Location data to help me provide the required solution and help the company in making data-driven decisions about the best location to launch from."
        },
        {
            "metadata": {},
            "cell_type": "markdown",
            "source": "#### Criteria\nAccording to some qualitative data analysis online, they suggest that the best location to open a new wine shop might not be where other wineshops are, but locations where there are Restaurants, Cafes and Bars.\nA location where people go to socialize alot and frequently, so opening a wine shope in that location might just be the best.\n\nNarrowing down the data to the best district options derived from qualitative analysis allows for either further research to be conducted on people taste, or physical searching for specific location by the company."
        },
        {
            "metadata": {},
            "cell_type": "markdown",
            "source": "#### Why Data?\n\nWithout using data to make decisions about the best location for a new wine shop, the company could spend countless hours walking around, consulting clubs and party goers who will only give them advise based on their person preference, and they might end up opening in a location that is not ideal.\n\nData will provide better answers and better solutions to their task at hand."
        },
        {
            "metadata": {},
            "cell_type": "markdown",
            "source": "#### Outcomes\n\nThe goal is to identify the best location - Arrondissements - to open new wine shop as part of the company's plan to launch new brands of wine. The results will be sold to the management in a basic form that will help the data-driven analysis for the best locations to open the wine shop."
        },
        {
            "metadata": {},
            "cell_type": "markdown",
            "source": "## 2. The Data\n\n### The main data for this project wil be gotten from Foursquare Location data and Municipax data exported from https://opendata.paris.fr/explore/dataset/arrondissements/table/?dataChart"
        },
        {
            "metadata": {},
            "cell_type": "markdown",
            "source": "According to my research, the main districts in Paris are divided into 20 Arrondissements Municipaux (administrative districts), shortened to arrondissements.\n\nThe data regarding the districts in Paris needs has been researched and identified. Data wrangling and cleaning will have to be performed on these data.\n\nFoursquare location data will be leveraged to explore or compare districts around Paris, identifying the high traffic areas where consumers go to Restaurants, Cafes, Bars, dining and entertainment - the areas where a new wine shop can be opened."
        },
        {
            "metadata": {},
            "cell_type": "markdown",
            "source": "#### The Data Science Workflow for this part includes the following:\n\n- Outline the initial data that is required: District data for Paris including names, location data if available, and any other details required.\n- Obtain the Data: Research and find suitable sources for the district data for Paris. Access and explore the data to determine if it can be manipulated for our purposes.\n- Initial Data Wrangling and Cleaning: Clean the data and convert to a useable form as a dataframe."
        },
        {
            "metadata": {},
            "cell_type": "markdown",
            "source": "#### Importing All Required Libraries"
        },
        {
            "metadata": {},
            "cell_type": "code",
            "source": "# Import libraries\nimport numpy as np # library to handle data in a vectorized manner\nimport json # library to handle JSON files\nimport pandas as pd\n\n!conda install -c conda-forge geopy --yes \nfrom geopy.geocoders import Nominatim # convert an address into latitude and longitude values\n\nimport requests # library to handle requests\nfrom pandas.io.json import json_normalize # tranform JSON file into a pandas dataframe\n\n# Matplotlib and associated plotting modules\nimport matplotlib.pyplot as plt\nimport matplotlib.cm as cm\nimport matplotlib.colors as colors\n\nfrom bs4 import BeautifulSoup\n\n# Import k-means from clustering stage\nfrom sklearn.cluster import KMeans\n\n!conda install -c conda-forge folium=0.5.0 --yes \nimport folium # map rendering library\n\nprint('Libraries imported.')",
            "execution_count": null,
            "outputs": [
                {
                    "output_type": "stream",
                    "text": "Solving environment: done\n\n# All requested packages already installed.\n\nSolving environment: / ",
                    "name": "stdout"
                }
            ]
        },
        {
            "metadata": {},
            "cell_type": "markdown",
            "source": "### Importing Paris District Data"
        },
        {
            "metadata": {},
            "cell_type": "markdown",
            "source": "Paris is divided into 20 Arrondissements Municipaux (or administrative districts), shortened to just arrondissements. They and normally referenced by the arrondissement number rather than a name. This data is necessary to select the best location for this wine shop.\n\nThe data is available on wikipedia  (https://en.wikipedia.org/wiki/Arrondissements_of_Paris) but a better version is available and exported from https://opendata.paris.fr/explore/dataset/arrondissements/table/?dataChart\n\nAfter exporting the data to CSV, I uploaded to my github account where i will be using the data from https://raw.githubusercontent.com/olaniyisinet/Coursera_Capstone/master/Arrondissements_.csv"
        },
        {
            "metadata": {},
            "cell_type": "code",
            "source": "paris = pd.read_csv('https://raw.githubusercontent.com/olaniyisinet/Coursera_Capstone/master/Arrondissements_.csv')\nparis",
            "execution_count": null,
            "outputs": []
        },
        {
            "metadata": {},
            "cell_type": "markdown",
            "source": "### Exploring and Cleaning the Data"
        },
        {
            "metadata": {},
            "cell_type": "code",
            "source": "# District : name of the central District for the Arrondissement\n# Arrondissement : the Arrondissement or district number which is used to identify it\n# Arrondissement_Fr : the descriptive French label for each Arrondissement\n\nparis.rename(columns={'NAME': 'Neighborhood ', 'CAR': 'Arrondissement_Num', 'Geometry_X': 'Latitude', 'Geometry_Y': 'Longitude',  'LAR': 'French_Name'}, inplace=True)\nparis",
            "execution_count": null,
            "outputs": []
        },
        {
            "metadata": {},
            "cell_type": "markdown",
            "source": "### Removing unncesary Columns from the dataset"
        },
        {
            "metadata": {},
            "cell_type": "code",
            "source": "paris.drop(['NSQAR','CAR.1','CARINSEE','NSQCO','SURFACE', 'PERIMETRE' ], axis=1, inplace=True)\nparis",
            "execution_count": null,
            "outputs": []
        },
        {
            "metadata": {},
            "cell_type": "markdown",
            "source": "#### We have successfully identified the problem statement and also identified the data to be used for this. This sums up our activities for week one.\n\n- Clearly define a problem or an idea of your choice, where you would need to leverage the Foursquare location data to solve or execute.\n- Describe the data that you will be using to solve the problem or execute your idea."
        },
        {
            "metadata": {},
            "cell_type": "markdown",
            "source": "# Week 1 Ends HERE ---------------------------------------------------------------------------------------------------"
        },
        {
            "metadata": {},
            "cell_type": "code",
            "source": "",
            "execution_count": null,
            "outputs": []
        }
    ],
    "metadata": {
        "kernelspec": {
            "name": "python3",
            "display_name": "Python 3.6",
            "language": "python"
        },
        "language_info": {
            "name": "python",
            "version": "3.6.9",
            "mimetype": "text/x-python",
            "codemirror_mode": {
                "name": "ipython",
                "version": 3
            },
            "pygments_lexer": "ipython3",
            "nbconvert_exporter": "python",
            "file_extension": ".py"
        }
    },
    "nbformat": 4,
    "nbformat_minor": 1
}